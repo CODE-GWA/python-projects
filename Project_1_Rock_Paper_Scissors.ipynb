{
  "nbformat": 4,
  "nbformat_minor": 0,
  "metadata": {
    "colab": {
      "name": "CODE@GWA Project #1 - Rock Paper Scissors",
      "provenance": [],
      "collapsed_sections": [],
      "include_colab_link": true
    },
    "kernelspec": {
      "name": "python3",
      "display_name": "Python 3"
    }
  },
  "cells": [
    {
      "cell_type": "markdown",
      "metadata": {
        "id": "view-in-github",
        "colab_type": "text"
      },
      "source": [
        "<a href=\"https://colab.research.google.com/github/CODE-GWA/python-projects/blob/main/Project_1_Rock_Paper_Scissors.ipynb\" target=\"_parent\"><img src=\"https://colab.research.google.com/assets/colab-badge.svg\" alt=\"Open In Colab\"/></a>"
      ]
    },
    {
      "cell_type": "markdown",
      "metadata": {
        "id": "pUmg1Mf9o-sY"
      },
      "source": [
        "# CODE@GWA Project #1 - Rock Paper Scissors Game"
      ]
    },
    {
      "cell_type": "markdown",
      "metadata": {
        "id": "dfLH3oCRSvGG"
      },
      "source": [
        "## (1) Imports\n",
        "To get randomized actions for the computer to play, we need to import the \"random\" python module. Since this comes default with Python, unlike other modules, we can just import it without installation."
      ]
    },
    {
      "cell_type": "code",
      "metadata": {
        "id": "Q9yczSc7OXbk"
      },
      "source": [
        "import random\n",
        "print(random) # This print statement isn't needed, its just to show that the module has been loaded into memory"
      ],
      "execution_count": null,
      "outputs": []
    },
    {
      "cell_type": "markdown",
      "metadata": {
        "id": "fu7HG9EoTFeU"
      },
      "source": [
        "## (2) Input from Player\n",
        "To get an input from the player for him/her to play \"rock\", \"paper\" or \"scissors\", we use the `input()` method—just like we have been using for every module. \n",
        "\n",
        "We will take this input as a single character, so that the player won't have to type out his play. To make sure that we get consistent inputs, the `.upper()` string method is used to make sure that the input is always in upper case.\n",
        "\n",
        "To make sure that the input from the user is a valid rock paper scissors play, we run some if-statements that ensure that the play is valid.\n",
        "\n",
        "Note that .format inserts its input within the specified curly brackets of a string, as seen below."
      ]
    },
    {
      "cell_type": "code",
      "metadata": {
        "id": "RtOBMyPrTazN"
      },
      "source": [
        "player_play = input(\"Rock, Paper or Scissors? ('R' / 'P' / 'S')\\n\").upper()\n",
        "\n",
        "print(\"Player played: {}\".format(player_play))\n",
        "\n",
        "if player_play in ['R', 'P', 'S']:\n",
        "  print(\"Valid play :)\")\n",
        "else:\n",
        "  print('Invalid play')"
      ],
      "execution_count": null,
      "outputs": []
    },
    {
      "cell_type": "markdown",
      "metadata": {
        "id": "VDSOFAEfVBC0"
      },
      "source": [
        "## (3) AI Player (computer generated plays)\n",
        "We need to create computer generated plays to determine if the player wins or loses the round.\n",
        "\n",
        "To do this, we used the previously mentioned `random` module. \n",
        "\n",
        "Using a pre-made function, we make the computer pick rock, paper or scissors. A list is passed into the `random.choice()` method containing the possible choices, and the function returns a random element from the list (which is the selected choice).\n",
        "\n",
        "Each time the below code block is run, a random play is printed to the console"
      ]
    },
    {
      "cell_type": "code",
      "metadata": {
        "id": "9mAzHvJxVAjE"
      },
      "source": [
        "plays = [\"R\", \"P\", \"S\"]\n",
        "\n",
        "computer_play = random.choice(plays)\n",
        "print(\"The computer played: {}\".format(computer_play))"
      ],
      "execution_count": null,
      "outputs": []
    },
    {
      "cell_type": "markdown",
      "metadata": {
        "id": "PGXgbJG4W3T4"
      },
      "source": [
        "## (4) Winner checking (main game logic)\n",
        "\n",
        "A series of if-statements are used to check who wins. \n",
        "\n",
        "As we know, rock beats scissors, paper beats rock and scissors beat paper."
      ]
    },
    {
      "cell_type": "code",
      "metadata": {
        "id": "AvQ5Ec1AW2uD"
      },
      "source": [
        "if player_play == computer_play:\n",
        "  print(\"Tie\")\n",
        "elif player_play == \"R\" and computer_play == \"S\":\n",
        "  print(\"Player wins\")\n",
        "elif player_play == \"P\" and computer_play == \"R\":\n",
        "  print(\"Player wins\")\n",
        "elif player_play == \"S\" and computer_play == \"P\":\n",
        "  print(\"Player wins\")\n",
        "else:\n",
        "  print(\"Computer wins :(\")"
      ],
      "execution_count": null,
      "outputs": []
    },
    {
      "cell_type": "markdown",
      "metadata": {
        "id": "gz3as7lPUGWf"
      },
      "source": [
        "## Now your turn!\n",
        "Combine all these individual elements to make a full rock-paper-scissors that you can play on the console (don't copy and paste everything!)\n",
        "\n",
        "Looking for a challange?\n",
        "Create a game with a scoring system that recursively sets up a game until someone (player or computer) reaches a certain score target (e.g. 3). "
      ]
    },
    {
      "cell_type": "code",
      "metadata": {
        "id": "rSBIOiNr_d3d"
      },
      "source": [
        ""
      ],
      "execution_count": null,
      "outputs": []
    }
  ]
}